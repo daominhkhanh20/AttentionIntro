{
  "nbformat": 4,
  "nbformat_minor": 0,
  "metadata": {
    "colab": {
      "name": "AttentionIntro.ipynb",
      "provenance": [],
      "collapsed_sections": []
    },
    "kernelspec": {
      "name": "python3",
      "display_name": "Python 3"
    },
    "accelerator": "GPU"
  },
  "cells": [
    {
      "cell_type": "code",
      "metadata": {
        "colab": {
          "base_uri": "https://localhost:8080/"
        },
        "id": "DSgskYuXYDWv",
        "outputId": "7dfeb9fc-4935-4b20-e1f0-1a090e624cb0"
      },
      "source": [
        "import torch \n",
        "from torch.autograd import Variable \n",
        "from torch import optim \n",
        "from load_data import load_generate_date\n",
        "from sklearn.model_selection import train_test_split\n",
        "import numpy as np \n",
        "from matplotlib import pyplot as plt \n",
        "from model_attention import Encoder, Decoder\n",
        "from torch import nn \n",
        "import os \n",
        "import numpy as np\n",
        "hidden_size=128\n",
        "learning_rate=1e-4\n",
        "decoder_learning_rato=0.1\n",
        "X,Y,X_word_index,Y_word_index=load_generate_date().load_data()\n"
      ],
      "execution_count": 6,
      "outputs": [
        {
          "output_type": "stream",
          "text": [
            "{'-': 1, '0': 2, '1': 3, '2': 4, '9': 5, '7': 6, '8': 7, '3': 8, '6': 9, '5': 10, '4': 11}\n"
          ],
          "name": "stdout"
        }
      ]
    },
    {
      "cell_type": "code",
      "metadata": {
        "id": "KXun-4fWIxaP"
      },
      "source": [
        "X_train,X_test,Y_train,Y_test=train_test_split(X,Y,test_size=0.1)\n",
        "X_train,X_val,Y_train,Y_val=train_test_split(X_train,Y_train,test_size=0.15)\n",
        "\n",
        "with open('data_test.npy','wb') as f:\n",
        "    np.save(f,X_test)\n",
        "    np.save(f,Y_test)"
      ],
      "execution_count": 7,
      "outputs": []
    },
    {
      "cell_type": "code",
      "metadata": {
        "id": "0cSUeZUNFnxo"
      },
      "source": [
        "    \n",
        "input_size=len(X_word_index)+1 # add padding character\n",
        "output_size=len(Y_word_index)+2 # plus 2 for start character, end character\n",
        "sos_index=len(Y_word_index)# start character\n",
        "eos_index=sos_index+1# end character"
      ],
      "execution_count": 8,
      "outputs": []
    },
    {
      "cell_type": "code",
      "metadata": {
        "id": "-mxxFubtYT7W",
        "colab": {
          "base_uri": "https://localhost:8080/",
          "height": 704
        },
        "outputId": "6e416cf9-8886-4abf-dca0-b2152212d60d"
      },
      "source": [
        "def forward_and_compute_loss(inputs,targets,encoder,decoder,criterion):\n",
        "    batch=inputs.size()[1]\n",
        "    sos=Variable(torch.ones((1,batch),dtype=torch.long)*sos_index)\n",
        "    eos=Variable(torch.ones((1,batch),dtype=torch.long)*eos_index)\n",
        "    decoder_inputs=torch.cat((sos,targets),dim=0)\n",
        "    decoder_targets=torch.cat((targets,eos),dim=0)\n",
        "\n",
        "    encoder_output,hidden=encoder(inputs)\n",
        "    outputs,attention_weights,hidden=decoder(decoder_inputs,encoder_output,hidden)\n",
        "    \n",
        "    outputs=torch.transpose(torch.transpose(outputs,0,1),1,2)\n",
        "    decoder_targets=torch.transpose(decoder_targets,0,1)\n",
        "\n",
        "    loss=criterion(outputs,decoder_targets)\n",
        "\n",
        "    return loss,outputs\n",
        "\n",
        "def evaluate(inputs,targets,encoder,decoder,criterion):\n",
        "    encoder.eval() #turn on mode evaluate\n",
        "    decoder.eval()\n",
        "    eval_loss,outputs=forward_and_compute_loss(inputs,targets,encoder,decoder,criterion)\n",
        "    #output: T*B*output_size\n",
        "    outputs=outputs.transpose(1,2)\n",
        "    \"\"\"\n",
        "    tensor.squeeze(dim=?): remove all superfical 1 dimention from tensor\n",
        "        ex:  a.size()=[3,2,1]   ===> a.shape()=[3,2] after a=a.squeeze(-1)\n",
        "    \"\"\"\n",
        "    preds_indexs=torch.argmax(outputs,dim=-1).squeeze(-1) #T*output_size\n",
        "    return eval_loss.item(),preds_indexs.data.numpy()\n",
        "\n",
        "def train(x_train,y_train,encoder,decoder,encoder_optimizer,decoder_optimizer,criterion):\n",
        "    encoder.train()\n",
        "    decoder.train()\n",
        "    encoder_optimizer.zero_grad()\n",
        "    decoder_optimizer.zero_grad()\n",
        "    train_loss,outputs=forward_and_compute_loss(x_train,y_train,encoder,decoder,criterion)\n",
        "    train_loss.backward()\n",
        "    encoder_optimizer.step()\n",
        "    decoder_optimizer.step()\n",
        "\n",
        "    return train_loss.item()    \n",
        "\n",
        "def plot_loss(train_loss,val_loss,n_epochs):\n",
        "    plt.plot(np.arange(n_epochs),train_loss,label='Train loss')\n",
        "    plt.plot(np.arange(n_epochs),val_loss,label='Val loss')\n",
        "    plt.legend()\n",
        "    plt.xlabel(\"Epochs\")\n",
        "    plt.ylabel(\"Loss\")\n",
        "    plt.savefig(\"loss.png\")\n",
        "\n",
        "def save_model(encoder,decoder):\n",
        "    #save model    \n",
        "    folder=\"Model\"\n",
        "    if os.path.isdir(folder) is False:\n",
        "        path=os.path.join(os.getcwd(),folder)\n",
        "        os.mkdir(path)\n",
        "    torch.save(encoder.state_dict(),\"Model/encoder.dict\")\n",
        "    torch.save(decoder.state_dict(),'Model/decoder.dict')\n",
        "\n",
        "def start_train(encoder,decoder):\n",
        "    encoder_optimizer=optim.Adam(encoder.parameters(),lr=learning_rate)\n",
        "    decoder_optimizer=optim.Adam(decoder.parameters(),lr=learning_rate*decoder_learning_rato)\n",
        "    train_loss=[]\n",
        "    val_loss=[]\n",
        "    batch_size=128\n",
        "    epochs=25\n",
        "    x_val=torch.tensor(X_val,dtype=torch.long).transpose(0,1)\n",
        "    y_val=torch.tensor(Y_val,dtype=torch.long).transpose(0,1)\n",
        "    criterion=nn.CrossEntropyLoss()\n",
        "\n",
        "    for epoch in range(epochs):\n",
        "        for idx in range(len(X_train)//batch_size):\n",
        "            x_train_batch=torch.tensor(\n",
        "                X_train[batch_size*idx:min(batch_size*(idx+1),len(X_train))],\n",
        "                dtype=torch.long\n",
        "            ).transpose(0,1)\n",
        "\n",
        "            y_train_batch=torch.tensor(\n",
        "                Y_train[batch_size*idx:min(batch_size*(idx+1),len(X_train))],\n",
        "                dtype=torch.long\n",
        "            ).transpose(0,1)\n",
        "\n",
        "            loss=train(x_train_batch,y_train_batch,encoder,decoder,encoder_optimizer,decoder_optimizer,criterion)\n",
        "        loss1,_=evaluate(x_val,y_val,encoder,decoder,criterion)\n",
        "        print(\"Epoch:{} --- Loss:{:5f} --- Val_loss:{:5f}\".format(epoch,loss,loss1))\n",
        "        train_loss.append(loss)\n",
        "        val_loss.append(loss1)\n",
        "\n",
        "    plot_loss(train_loss,val_loss,epochs)\n",
        "    save_model(encoder,decoder)\n",
        "\n",
        "\n",
        "\n",
        "def main():\n",
        "    encoder=Encoder(input_size,hidden_size)\n",
        "    decoder=Decoder(output_size,hidden_size,0.1)\n",
        "    start_train(encoder,decoder)\n",
        "\n",
        "\n",
        "if __name__==\"__main__\":\n",
        "    main()\n",
        "\n"
      ],
      "execution_count": 9,
      "outputs": [
        {
          "output_type": "stream",
          "text": [
            "Epoch:0 --- Loss:1.419877 --- Val_loss:1.392180\n",
            "Epoch:1 --- Loss:0.782837 --- Val_loss:0.768766\n",
            "Epoch:2 --- Loss:0.476012 --- Val_loss:0.460985\n",
            "Epoch:3 --- Loss:0.282411 --- Val_loss:0.266196\n",
            "Epoch:4 --- Loss:0.170952 --- Val_loss:0.166993\n",
            "Epoch:5 --- Loss:0.106324 --- Val_loss:0.108490\n",
            "Epoch:6 --- Loss:0.078325 --- Val_loss:0.075085\n",
            "Epoch:7 --- Loss:0.058152 --- Val_loss:0.057439\n",
            "Epoch:8 --- Loss:0.048268 --- Val_loss:0.045906\n",
            "Epoch:9 --- Loss:0.042931 --- Val_loss:0.037983\n",
            "Epoch:10 --- Loss:0.039607 --- Val_loss:0.031819\n",
            "Epoch:11 --- Loss:0.035733 --- Val_loss:0.028256\n",
            "Epoch:12 --- Loss:0.034954 --- Val_loss:0.025622\n",
            "Epoch:13 --- Loss:0.031776 --- Val_loss:0.023499\n",
            "Epoch:14 --- Loss:0.030281 --- Val_loss:0.022488\n",
            "Epoch:15 --- Loss:0.030106 --- Val_loss:0.020617\n",
            "Epoch:16 --- Loss:0.017326 --- Val_loss:0.010671\n",
            "Epoch:17 --- Loss:0.015209 --- Val_loss:0.005559\n",
            "Epoch:18 --- Loss:0.008237 --- Val_loss:0.003420\n",
            "Epoch:19 --- Loss:0.006796 --- Val_loss:0.003306\n",
            "Epoch:20 --- Loss:0.007034 --- Val_loss:0.002699\n",
            "Epoch:21 --- Loss:0.006396 --- Val_loss:0.002502\n",
            "Epoch:22 --- Loss:0.006209 --- Val_loss:0.002369\n",
            "Epoch:23 --- Loss:0.006206 --- Val_loss:0.002211\n",
            "Epoch:24 --- Loss:0.005818 --- Val_loss:0.002150\n"
          ],
          "name": "stdout"
        },
        {
          "output_type": "display_data",
          "data": {
            "image/png": "[encoded data removed]",
            "text/plain": [
              "<Figure size 432x288 with 1 Axes>"
            ]
          },
          "metadata": {
            "tags": [],
            "needs_background": "light"
          }
        }
      ]
    },
    {
      "cell_type": "code",
      "metadata": {
        "id": "G5y7cJS6S8U8"
      },
      "source": [
        ""
      ],
      "execution_count": 9,
      "outputs": []
    }
  ]
}